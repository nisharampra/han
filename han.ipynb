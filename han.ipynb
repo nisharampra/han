{
  "nbformat": 4,
  "nbformat_minor": 0,
  "metadata": {
    "colab": {
      "provenance": [],
      "gpuType": "T4"
    },
    "kernelspec": {
      "name": "python3",
      "display_name": "Python 3"
    },
    "language_info": {
      "name": "python"
    },
    "accelerator": "GPU"
  },
  "cells": [
    {
      "cell_type": "markdown",
      "source": [
        "\n",
        "\n",
        "* Node-Level Attention: Learns the importance between a node and its meta-path-based neighbors.\n",
        "\n",
        "*  Semantic-Level Attention: Learns the importance of different meta-paths.\n",
        "*HAN Model: Combines both attention mechanisms to generate node embeddings.\n",
        "*Training Loop: Uses a semi-supervised approach for node classification.\n",
        "\n",
        "\n"
      ],
      "metadata": {
        "id": "tdOTlNoABCcC"
      }
    },
    {
      "cell_type": "code",
      "source": [
        "import torch\n",
        "import torch.nn as nn\n",
        "import torch.nn.functional as F\n",
        "from torch_geometric.nn import GATConv\n",
        "\n",
        "class NodeLevelAttention(nn.Module):\n",
        "    def __init__(self, in_dim, out_dim, heads=8, dropout=0.6):\n",
        "        super(NodeLevelAttention, self).__init__()\n",
        "        self.gat = GATConv(in_dim, out_dim // heads, heads=heads, dropout=dropout)\n",
        "\n",
        "    def forward(self, x, edge_index):\n",
        "        return F.elu(self.gat(x, edge_index))\n",
        "\n",
        "class SemanticLevelAttention(nn.Module):\n",
        "    def __init__(self, in_dim):\n",
        "        super(SemanticLevelAttention, self).__init__()\n",
        "        self.attn_vector = nn.Parameter(torch.Tensor(in_dim, 1))\n",
        "        nn.init.xavier_uniform_(self.attn_vector.data, gain=1.414)\n",
        "\n",
        "    def forward(self, semantic_embeddings):\n",
        "        scores = torch.matmul(semantic_embeddings, self.attn_vector).squeeze()\n",
        "        attention_weights = F.softmax(scores, dim=0)\n",
        "        return torch.sum(attention_weights.unsqueeze(-1) * semantic_embeddings, dim=0)\n",
        "\n",
        "class HAN(nn.Module):\n",
        "    def __init__(self, meta_paths, in_dim, hidden_dim, out_dim, heads=8, dropout=0.6):\n",
        "        super(HAN, self).__init__()\n",
        "        self.meta_paths = meta_paths\n",
        "        self.node_attention = nn.ModuleList([NodeLevelAttention(in_dim, hidden_dim, heads, dropout) for _ in meta_paths])\n",
        "        self.semantic_attention = SemanticLevelAttention(hidden_dim)\n",
        "        self.classifier = nn.Linear(hidden_dim, out_dim)\n",
        "\n",
        "    def forward(self, x, edge_indices):\n",
        "        semantic_embeddings = []\n",
        "        for i, edge_index in enumerate(edge_indices):\n",
        "            semantic_embeddings.append(self.node_attention[i](x, edge_index))\n",
        "        semantic_embeddings = torch.stack(semantic_embeddings, dim=0)\n",
        "        final_embedding = self.semantic_attention(semantic_embeddings)\n",
        "        return F.log_softmax(self.classifier(final_embedding), dim=1)\n",
        "\n",
        "def train_han(model, data, optimizer, epochs=100):\n",
        "    model.train()\n",
        "    for epoch in range(epochs):\n",
        "        optimizer.zero_grad()\n",
        "        output = model(data.x, data.edge_indices)\n",
        "        loss = F.nll_loss(output[data.train_mask], data.y[data.train_mask])\n",
        "        loss.backward()\n",
        "        optimizer.step()\n",
        "        print(f'Epoch {epoch+1}, Loss: {loss.item()}')\n",
        "\n",
        "class ExampleData:\n",
        "    def __init__(self):\n",
        "        self.x = torch.rand((10, 16))\n",
        "        self.edge_indices = [torch.randint(0, 10, (2, 20)) for _ in range(2)]\n",
        "        self.y = torch.randint(0, 3, (10,))\n",
        "        self.train_mask = torch.tensor([True] * 7 + [False] * 3)\n",
        "\n",
        "data = ExampleData()\n",
        "model = HAN(meta_paths=[0, 1], in_dim=16, hidden_dim=32, out_dim=3)\n",
        "optimizer = torch.optim.Adam(model.parameters(), lr=0.005, weight_decay=0.001)\n",
        "\n",
        "train_han(model, data, optimizer, epochs=10)\n",
        "\n"
      ],
      "metadata": {
        "colab": {
          "base_uri": "https://localhost:8080/"
        },
        "id": "zITc7jG1BC3Z",
        "outputId": "e32df0fd-ffc2-4d59-9b17-9baf3d3e5dd7"
      },
      "execution_count": 10,
      "outputs": [
        {
          "output_type": "stream",
          "name": "stdout",
          "text": [
            "Epoch 1, Loss: 1.0966864824295044\n",
            "Epoch 2, Loss: 1.0392301082611084\n",
            "Epoch 3, Loss: 0.9214492440223694\n",
            "Epoch 4, Loss: 0.9888289570808411\n",
            "Epoch 5, Loss: 0.9607367515563965\n",
            "Epoch 6, Loss: 0.8389010429382324\n",
            "Epoch 7, Loss: 0.9290308356285095\n",
            "Epoch 8, Loss: 0.8736441731452942\n",
            "Epoch 9, Loss: 1.0188474655151367\n",
            "Epoch 10, Loss: 0.8146460652351379\n"
          ]
        }
      ]
    }
  ]
}